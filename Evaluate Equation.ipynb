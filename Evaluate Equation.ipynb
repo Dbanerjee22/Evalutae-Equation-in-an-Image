#--reads an image and gives back the number or the alphabet written on it-----------------
import pytesseract
pytesseract.pytesseract.tesseract_cmd = r'C:\Users\RICK\AppData\Local\Programs\Tesseract-OCR\tesseract'
print(pytesseract.image_to_string(r'D:\input.jpg'))
#----reads an image containing a small mathematical problem (addition/subtraction) and gives back the result-----------
from PIL import Image
import pytesseract
pytesseract.pytesseract.tesseract_cmd = r'C:\Users\RICK\AppData\Local\Programs\Tesseract-OCR\tesseract'
result=pytesseract.image_to_string(Image.open('D:\input.jpg').convert('LA'))
eval(result)
